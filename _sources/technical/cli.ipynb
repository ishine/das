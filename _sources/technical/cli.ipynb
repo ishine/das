{
 "cells": [
  {
   "cell_type": "markdown",
   "metadata": {},
   "source": [
    "# Command line interfaces\n",
    "\n",
    "## xb"
   ]
  },
  {
   "cell_type": "code",
   "execution_count": 1,
   "metadata": {},
   "outputs": [
    {
     "output_type": "stream",
     "name": "stdout",
     "text": [
      "usage: dss-gui [-h] [-e EVENTS_STRING] [-t TARGET_SAMPLINGRATE]\n               [--spec-freq-min SPEC_FREQ_MIN] [--spec-freq-max SPEC_FREQ_MAX]\n               [-b BOX_SIZE] [--skip-dialog] [--no-skip-dialog] [--version]\n               [source]\n\npositional arguments:\n  source                (default: )\n\noptional arguments:\n  -h, --help            show this help message and exit\n  -e EVENTS_STRING, --events-string EVENTS_STRING\n                        (default: )\n  -t TARGET_SAMPLINGRATE, --target-samplingrate TARGET_SAMPLINGRATE\n                        (default: None)\n  --spec-freq-min SPEC_FREQ_MIN\n                        (default: None)\n  --spec-freq-max SPEC_FREQ_MAX\n                        (default: None)\n  -b BOX_SIZE, --box-size BOX_SIZE\n                        (default: 200)\n  --skip-dialog         (default: False)\n  --no-skip-dialog\n  --version             show program's version number and exit\n\u001b[0m"
     ]
    }
   ],
   "source": [
    "!dss-gui --help"
   ]
  },
  {
   "source": [
    "## dss-train"
   ],
   "cell_type": "markdown",
   "metadata": {}
  },
  {
   "source": [
    "!dss-train --help"
   ],
   "cell_type": "code",
   "metadata": {},
   "execution_count": 2,
   "outputs": [
    {
     "output_type": "stream",
     "name": "stdout",
     "text": [
      "usage: dss-train [-h] -d DATA_DIR [-m MODEL_NAME] [--nb-filters NB_FILTERS]\n                 [-k KERNEL_SIZE] [--nb-conv NB_CONV] [--nb-hist NB_HIST]\n                 [--batch-norm] [--no-batch-norm] [--save-dir SAVE_DIR]\n                 [-v VERBOSE] [--nb-stacks NB_STACKS] [-w] [--no-with-y-hist]\n                 [--nb-epoch NB_EPOCH] [-f FRACTION_DATA] [--seed SEED] [-i]\n                 [--no-ignore-boundaries] [-x X_SUFFIX] [-y Y_SUFFIX]\n                 [--nb-pre-conv NB_PRE_CONV] [--learning-rate LEARNING_RATE]\n                 [--reduce-lr] [--no-reduce-lr]\n                 [--reduce-lr-patience REDUCE_LR_PATIENCE]\n                 [--batch-level-subsampling] [--no-batch-level-subsampling]\n                 [-t] [--no-tensorboard]\n                 [-u [USE_SEPARABLE [USE_SEPARABLE ...]]]\n                 [--pre-kernel-size PRE_KERNEL_SIZE]\n                 [--pre-nb-filters PRE_NB_FILTERS] [--pre-nb-conv PRE_NB_CONV]\n                 [--save-prefix SAVE_PREFIX] [--log-messages]\n                 [--no-log-messages] [--version]\n\n[summary]\n\noptional arguments:\n  -h, --help            show this help message and exit\n  -d DATA_DIR, --data-dir DATA_DIR\n                        [description]. Defaults to '../dat.song'.\n  -m MODEL_NAME, --model-name MODEL_NAME\n                        [description]. Defaults to 'tcn_seq'.\n                        (default: tcn)\n  --nb-filters NB_FILTERS\n                        [description]. Defaults to 16.\n                        (default: 16)\n  -k KERNEL_SIZE, --kernel-size KERNEL_SIZE\n                        [description]. Defaults to 3.\n                        (default: 3)\n  --nb-conv NB_CONV     [description]. Defaults to 3.\n                        (default: 3)\n  --nb-hist NB_HIST     [description]. Defaults to 1024.\n                        (default: 1024)\n  --batch-norm          [description]. Defaults to True.\n                        (default: True)\n  --no-batch-norm\n  --save-dir SAVE_DIR   [description]. Defaults to current directory ('./').\n                        (default: ./)\n  -v VERBOSE, --verbose VERBOSE\n                        Verbosity of training output (0 - no output(?), 1 - progress bar, 2 - one line per epoch). Defaults to 2.\n                        (default: 2)\n  --nb-stacks NB_STACKS\n                        [description]. Defaults to 2.\n                        (default: 2)\n  -w, --with-y-hist     [description]. Defaults to True.\n                        (default: True)\n  --no-with-y-hist\n  --nb-epoch NB_EPOCH   Defaults to 400.\n                        (default: 400)\n  -f FRACTION_DATA, --fraction-data FRACTION_DATA\n                        [description]. Defaults to 1.0.\n                        (default: None)\n  --seed SEED           Seed for selecting random subsets of the data. Defaults to None (no seed).\n                        (default: None)\n  -i, --ignore-boundaries\n                        [description]. Defaults to False.\n                        (default: False)\n  --no-ignore-boundaries\n  -x X_SUFFIX, --x-suffix X_SUFFIX\n                        ... Defaults to '' (will use 'x')\n                        (default: )\n  -y Y_SUFFIX, --y-suffix Y_SUFFIX\n                        ... Defaults to '' (will use 'y')\n                        (default: )\n  --nb-pre-conv NB_PRE_CONV\n                        adds a frontend of N conv blocks (conv-relu-batchnorm-maxpool2) to the TCN - useful for reducing the sampling rate for USV. Defaults to 0 (no frontend).\n                        (default: 0)\n  --learning-rate LEARNING_RATE\n                        learning rate of the model. Defaults to None (values set in the model def)\n                        (default: None)\n  --reduce-lr           reduce learning rate on plateau\n                        (default: False)\n  --no-reduce-lr\n  --reduce-lr-patience REDUCE_LR_PATIENCE\n                        (default: 5)\n  --batch-level-subsampling\n                        if true fraction data will select random subset of shuffled batches, otherwise will select a continuous chunk of the recording\n                        (default: False)\n  --no-batch-level-subsampling\n  -t, --tensorboard     whether to write tensorboard logs to save_dir Defaults to False.\n                        (default: False)\n  --no-tensorboard\n  -u [USE_SEPARABLE [USE_SEPARABLE ...]], --use-separable [USE_SEPARABLE [USE_SEPARABLE ...]]\n                        use separable convs in TCN. Defaults to False.\n                        (default: False)\n  --pre-kernel-size PRE_KERNEL_SIZE\n                        [description]. Defaults to 3.\n                        (default: 3)\n  --pre-nb-filters PRE_NB_FILTERS\n                        [description]. Defaults to 16.\n                        (default: 16)\n  --pre-nb-conv PRE_NB_CONV\n                        [description]. Defaults to 3.\n                        (default: 2)\n  --save-prefix SAVE_PREFIX\n                        prepend to save file name. Defaults to ''.\n                        (default: None)\n  --log-messages        sets logging level to INFO. Defaults to False (will follow existing settings).\n                        (default: False)\n  --no-log-messages\n  --version             show program's version number and exit\n\u001b[0m"
     ]
    }
   ]
  },
  {
   "cell_type": "markdown",
   "metadata": {},
   "source": [
    "## dss-predict"
   ]
  },
  {
   "cell_type": "code",
   "execution_count": 3,
   "metadata": {},
   "outputs": [
    {
     "output_type": "stream",
     "name": "stdout",
     "text": [
      "usage: dss-predict [-h] [--save-filename SAVE_FILENAME] [-v VERBOSE]\n                   [-b BATCH_SIZE] [--event-thres EVENT_THRES]\n                   [--event-dist EVENT_DIST] [--event-dist-min EVENT_DIST_MIN]\n                   [--event-dist-max EVENT_DIST_MAX]\n                   [--segment-thres SEGMENT_THRES]\n                   [--segment-minlen SEGMENT_MINLEN]\n                   [--segment-fillgap SEGMENT_FILLGAP] [--version]\n                   recording_filename model_save_name\n\n[summary] \n \nSaves hdf5 file with keys: events, segments,class_probabilities\n\npositional arguments:\n  recording_filename    path to the WAV file with the audio data.\n  model_save_name       path with the trunk name of the model.\n\noptional arguments:\n  -h, --help            show this help message and exit\n  --save-filename SAVE_FILENAME\n                        path to save annotations to. [Optional] - will strip extension from recording_filename and add '_dss.h5'.\n                        (default: None)\n  -v VERBOSE, --verbose VERBOSE\n                        display progress bar during prediction. Defaults to 1.\n                        (default: 1)\n  -b BATCH_SIZE, --batch-size BATCH_SIZE\n                        number of chunks processed at once . Defaults to None (the default used during training).\n                        Larger batches lead to faster inference. Limited by memory size, in particular for GPUs which typically have 8GB.\n                        (default: None)\n  --event-thres EVENT_THRES\n                        Confidence threshold for detecting peaks. Range 0..1. Defaults to 0.5.\n                        (default: 0.5)\n  --event-dist EVENT_DIST\n                        Minimal distance between adjacent events during thresholding.\n                        Prevents detecting duplicate events when the confidence trace is a little noisy.\n                        Defaults to 0.01.\n                        (default: 0.01)\n  --event-dist-min EVENT_DIST_MIN\n                        MINimal inter-event interval for the event filter run during post processing.\n                        Defaults to 0.\n                        (default: 0)\n  --event-dist-max EVENT_DIST_MAX\n                        MAXimal inter-event interval for the event filter run during post processing.\n                        Defaults to None (no upper limit).\n                        (default: None)\n  --segment-thres SEGMENT_THRES\n                        Confidence threshold for detecting segments. Range 0..1. Defaults to 0.5.\n                        (default: 0.5)\n  --segment-minlen SEGMENT_MINLEN\n                        Minimal duration of a segment used for filtering out spurious detections. Defaults to None.\n                        (default: None)\n  --segment-fillgap SEGMENT_FILLGAP\n                        Gap between adjacent segments to be filled. Useful for correcting brief lapses. Defaults to None.\n                        (default: None)\n  --version             show program's version number and exit\n\u001b[0m"
     ]
    }
   ],
   "source": [
    "!dss-predict --help"
   ]
  }
 ],
 "metadata": {
  "kernelspec": {
   "display_name": "Python 3",
   "language": "python",
   "name": "python3"
  },
  "widgets": {
   "application/vnd.jupyter.widget-state+json": {
    "state": {},
    "version_major": 2,
    "version_minor": 0
   }
  }
 },
 "nbformat": 4,
 "nbformat_minor": 4
}