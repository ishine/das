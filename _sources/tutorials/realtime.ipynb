{
 "cells": [
  {
   "cell_type": "markdown",
   "metadata": {},
   "source": [
    "# Realtime annotations"
   ]
  },
  {
   "source": [
    "## Setup\n",
    "Test the latency of realtime annotations on a GPU (if you have one) or a CPU."
   ],
   "cell_type": "markdown",
   "metadata": {}
  },
  {
   "cell_type": "code",
   "execution_count": 2,
   "metadata": {},
   "outputs": [
    {
     "output_type": "stream",
     "name": "stdout",
     "text": [
      "[]\n"
     ]
    }
   ],
   "source": [
    "import os\n",
    "USE_GPU = True  # \n",
    "# disable existing GPUs if testing CPU\n",
    "os.environ['CUDA_VISIBLE_DEVICES'] = '0' if USE_GPU else '-1'\n",
    "physical_devices = tf.config.list_physical_devices('GPU') \n",
    "print(physical_devices)\n",
    "\n",
    "# disabling eager execution in tensorflow speeds up annotations by ~6x\n",
    "try:\n",
    "    import tensorflow as tf\n",
    "    from tensorflow.python.framework.ops import disable_eager_execution\n",
    "    disable_eager_execution()\n",
    "except:\n",
    "    pass"
   ]
  },
  {
   "cell_type": "code",
   "execution_count": 3,
   "metadata": {},
   "outputs": [],
   "source": [
    "%config InlineBackend.figure_format = 'jpg'  # smaller mem footprint for page\n",
    "\n",
    "import numpy as np\n",
    "import dss.utils\n",
    "import dss.predict\n",
    "import scipy.signal\n",
    "import matplotlib.pyplot as plt\n",
    "import scipy.io.wavfile\n",
    "import time\n",
    "import subprocess\n",
    "\n",
    "plt.style.use('ncb.mplstyle')"
   ]
  },
  {
   "cell_type": "markdown",
   "metadata": {},
   "source": [
    "## Load the model and runtime parameters"
   ]
  },
  {
   "cell_type": "code",
   "execution_count": 4,
   "metadata": {},
   "outputs": [
    {
     "output_type": "stream",
     "name": "stdout",
     "text": [
      "Model expects input shape 256 samples and 1 channel(s).\n"
     ]
    }
   ],
   "source": [
    "model_filename = 'models/dmel_single_rt/20200430_201821'\n",
    "model, params = dss.utils.load_model_and_params(model_filename)\n",
    "\n",
    "pulse_index = params['class_names'].index('pulse')\n",
    "sine_index = params['class_names'].index('sine')\n",
    "\n",
    "samplerate = params['samplerate_x_Hz']\n",
    "interval = params['nb_hist'] / samplerate\n",
    "\n",
    "print(f\"Model expects input shape {model.input_shape[1]} samples and {model.input_shape[2]} channel(s).\")"
   ]
  },
  {
   "cell_type": "markdown",
   "metadata": {},
   "source": [
    "## Load a recording\n",
    "Samplerates of the recording and of the data the model was trained with should match. Otherwise resample the recording to match the model using `scipy.signal.resample_poly(x=recording, up=int(recording_samplerate), down=int(samplerate), axis=0)`"
   ]
  },
  {
   "cell_type": "code",
   "execution_count": 5,
   "metadata": {},
   "outputs": [
    {
     "output_type": "error",
     "ename": "NameError",
     "evalue": "name 'scipy' is not defined",
     "traceback": [
      "\u001b[0;31m---------------------------------------------------------------------------\u001b[0m",
      "\u001b[0;31mNameError\u001b[0m                                 Traceback (most recent call last)",
      "\u001b[0;32m<ipython-input-5-d4d2fa7c9b99>\u001b[0m in \u001b[0;36m<module>\u001b[0;34m\u001b[0m\n\u001b[0;32m----> 1\u001b[0;31m \u001b[0mrecording_samplerate\u001b[0m\u001b[0;34m,\u001b[0m \u001b[0mrecording\u001b[0m \u001b[0;34m=\u001b[0m \u001b[0mscipy\u001b[0m\u001b[0;34m.\u001b[0m\u001b[0mio\u001b[0m\u001b[0;34m.\u001b[0m\u001b[0mwavfile\u001b[0m\u001b[0;34m.\u001b[0m\u001b[0mread\u001b[0m\u001b[0;34m(\u001b[0m\u001b[0;34m'dat/dmel_song_rt.wav'\u001b[0m\u001b[0;34m)\u001b[0m\u001b[0;34m\u001b[0m\u001b[0;34m\u001b[0m\u001b[0m\n\u001b[0m\u001b[1;32m      2\u001b[0m \u001b[0mrecording\u001b[0m \u001b[0;34m=\u001b[0m \u001b[0mnp\u001b[0m\u001b[0;34m.\u001b[0m\u001b[0matleast_2d\u001b[0m\u001b[0;34m(\u001b[0m\u001b[0mrecording\u001b[0m\u001b[0;34m)\u001b[0m\u001b[0;34m.\u001b[0m\u001b[0mT\u001b[0m\u001b[0;34m\u001b[0m\u001b[0;34m\u001b[0m\u001b[0m\n\u001b[1;32m      3\u001b[0m \u001b[0;34m\u001b[0m\u001b[0m\n\u001b[1;32m      4\u001b[0m \u001b[0mplt\u001b[0m\u001b[0;34m.\u001b[0m\u001b[0mfigure\u001b[0m\u001b[0;34m(\u001b[0m\u001b[0mfigsize\u001b[0m\u001b[0;34m=\u001b[0m\u001b[0;34m(\u001b[0m\u001b[0;36m30\u001b[0m\u001b[0;34m,\u001b[0m \u001b[0;36m4\u001b[0m\u001b[0;34m)\u001b[0m\u001b[0;34m)\u001b[0m\u001b[0;34m\u001b[0m\u001b[0;34m\u001b[0m\u001b[0m\n\u001b[1;32m      5\u001b[0m \u001b[0mplt\u001b[0m\u001b[0;34m.\u001b[0m\u001b[0mplot\u001b[0m\u001b[0;34m(\u001b[0m\u001b[0mrecording\u001b[0m\u001b[0;34m[\u001b[0m\u001b[0;34m:\u001b[0m\u001b[0;36m100_000\u001b[0m\u001b[0;34m]\u001b[0m\u001b[0;34m,\u001b[0m \u001b[0mc\u001b[0m\u001b[0;34m=\u001b[0m\u001b[0;34m'k'\u001b[0m\u001b[0;34m)\u001b[0m  \u001b[0;31m# plot the first 10 seconds\u001b[0m\u001b[0;34m\u001b[0m\u001b[0;34m\u001b[0m\u001b[0m\n",
      "\u001b[0;31mNameError\u001b[0m: name 'scipy' is not defined"
     ]
    }
   ],
   "source": [
    "recording_samplerate, recording = scipy.io.wavfile.read('dat/dmel_song_rt.wav')\n",
    "recording = np.atleast_2d(recording).T\n",
    "\n",
    "plt.figure(figsize=(30, 4))\n",
    "plt.plot(recording[:100_000], c='k')  # plot the first 10 seconds\n",
    "plt.show()\n",
    "\n",
    "print(f\"Sample rate of the recording ({recording_samplerate}Hz), sample rate expected by the model ({samplerate}Hz). Both should match.\")"
   ]
  },
  {
   "cell_type": "markdown",
   "metadata": {},
   "source": [
    "## Define a virtual microphone\n",
    "The microphone takes a full recording and returns chunks of data at a rate determined by the chunk duration. In a real experimental setup, this would be a function that runs the data acquisition or a multi-processing queue that gets fed by the acquisition system."
   ]
  },
  {
   "cell_type": "code",
   "execution_count": 2,
   "metadata": {
    "tags": []
   },
   "outputs": [
    {
     "output_type": "error",
     "ename": "NameError",
     "evalue": "name 'np' is not defined",
     "traceback": [
      "\u001b[0;31m---------------------------------------------------------------------------\u001b[0m",
      "\u001b[0;31mNameError\u001b[0m                                 Traceback (most recent call last)",
      "\u001b[0;32m<ipython-input-2-fca884557242>\u001b[0m in \u001b[0;36m<module>\u001b[0;34m\u001b[0m\n\u001b[0;32m----> 1\u001b[0;31m \u001b[0;32mdef\u001b[0m \u001b[0mvirtual_microphone\u001b[0m\u001b[0;34m(\u001b[0m\u001b[0mdata\u001b[0m\u001b[0;34m:\u001b[0m \u001b[0mnp\u001b[0m\u001b[0;34m.\u001b[0m\u001b[0marray\u001b[0m\u001b[0;34m,\u001b[0m \u001b[0minterval\u001b[0m\u001b[0;34m:\u001b[0m \u001b[0mfloat\u001b[0m\u001b[0;34m,\u001b[0m \u001b[0msamplerate\u001b[0m\u001b[0;34m:\u001b[0m \u001b[0mfloat\u001b[0m\u001b[0;34m,\u001b[0m \u001b[0mblock\u001b[0m\u001b[0;34m:\u001b[0m \u001b[0mbool\u001b[0m \u001b[0;34m=\u001b[0m \u001b[0;32mTrue\u001b[0m\u001b[0;34m)\u001b[0m\u001b[0;34m:\u001b[0m\u001b[0;34m\u001b[0m\u001b[0;34m\u001b[0m\u001b[0m\n\u001b[0m\u001b[1;32m      2\u001b[0m \u001b[0;34m\u001b[0m\u001b[0m\n\u001b[1;32m      3\u001b[0m     \u001b[0mRUN\u001b[0m \u001b[0;34m=\u001b[0m \u001b[0;32mTrue\u001b[0m\u001b[0;34m\u001b[0m\u001b[0;34m\u001b[0m\u001b[0m\n\u001b[1;32m      4\u001b[0m     \u001b[0mcurrent_position\u001b[0m \u001b[0;34m=\u001b[0m \u001b[0;36m0\u001b[0m\u001b[0;34m\u001b[0m\u001b[0;34m\u001b[0m\u001b[0m\n\u001b[1;32m      5\u001b[0m     \u001b[0mt1\u001b[0m \u001b[0;34m=\u001b[0m \u001b[0mtime\u001b[0m\u001b[0;34m.\u001b[0m\u001b[0mtime\u001b[0m\u001b[0;34m(\u001b[0m\u001b[0;34m)\u001b[0m \u001b[0;34m-\u001b[0m \u001b[0;36m0.025\u001b[0m\u001b[0;34m\u001b[0m\u001b[0;34m\u001b[0m\u001b[0m\n",
      "\u001b[0;31mNameError\u001b[0m: name 'np' is not defined"
     ]
    }
   ],
   "source": [
    "def virtual_microphone(data: np.array, interval: float, samplerate: float, block: bool = True):\n",
    "    \n",
    "    RUN = True\n",
    "    current_position = 0\n",
    "    t1 = time.time() - 0.025\n",
    "    t0 = time.time()    \n",
    "    while RUN:\n",
    "        current_position += interval * samplerate \n",
    "        start_sample = int(current_position)\n",
    "        end_sample = int(current_position + interval * samplerate)\n",
    "        chunk = data[start_sample:end_sample]\n",
    "        if block:\n",
    "            while (t1-t0)<interval:  # wait til interval has elapsed\n",
    "                time.sleep(0.001)\n",
    "                t1 = time.time()\n",
    "        if end_sample >= data.shape[0]:\n",
    "            RUN = False\n",
    "            yield None\n",
    "        else:\n",
    "            yield chunk\n",
    "        t0 = time.time()\n",
    "    \n",
    "\n",
    "mike = virtual_microphone(recording, interval, samplerate, block=True)\n",
    "rec = next(mike)\n",
    "print(f\"Microphone produces {rec.shape[0]} samples and {rec.shape[1]} channel(s) per chunk.\")\n",
    "\n",
    "print('Consuming and plotting 100 chunks...')\n",
    "recording_latencies = []\n",
    "for _ in range(100):\n",
    "    with dss.utils.Timer() as t:\n",
    "        rec = next(mike)\n",
    "    recording_latencies.append(t.elapsed * 1000)\n",
    "    plt.plot(rec)\n",
    "    plt.ylim(-1, 1)\n",
    "plt.title('Individal chunks')\n",
    "plt.xlabel('Samples')\n",
    "plt.xlim(0, rec.shape[0])\n",
    "plt.show()\n",
    "print(f\"Takes {np.median(recording_latencies):1.1f} ms to return {rec.shape[0] / samplerate * 1000:1.1f} ms of audio data.\")"
   ]
  },
  {
   "source": [
    "## Test annotation\n",
    "Test the model and a simple song detection routing with a chunk that contains song. A specific song type is detect if the corresponding confidence is exceeds 0.7 during a chunk."
   ],
   "cell_type": "markdown",
   "metadata": {}
  },
  {
   "cell_type": "code",
   "execution_count": 4,
   "metadata": {},
   "outputs": [
    {
     "output_type": "error",
     "ename": "NameError",
     "evalue": "name 'mike' is not defined",
     "traceback": [
      "\u001b[0;31m---------------------------------------------------------------------------\u001b[0m",
      "\u001b[0;31mNameError\u001b[0m                                 Traceback (most recent call last)",
      "\u001b[0;32m<ipython-input-4-365a48ddb6d0>\u001b[0m in \u001b[0;36m<module>\u001b[0;34m\u001b[0m\n\u001b[1;32m      6\u001b[0m \u001b[0;31m# consume a couple of chunks until there is song\u001b[0m\u001b[0;34m\u001b[0m\u001b[0;34m\u001b[0m\u001b[0;34m\u001b[0m\u001b[0m\n\u001b[1;32m      7\u001b[0m \u001b[0;32mfor\u001b[0m \u001b[0m_\u001b[0m \u001b[0;32min\u001b[0m \u001b[0mrange\u001b[0m\u001b[0;34m(\u001b[0m\u001b[0;36m9\u001b[0m\u001b[0;34m)\u001b[0m\u001b[0;34m:\u001b[0m\u001b[0;34m\u001b[0m\u001b[0;34m\u001b[0m\u001b[0m\n\u001b[0;32m----> 8\u001b[0;31m     \u001b[0md\u001b[0m \u001b[0;34m=\u001b[0m \u001b[0mnext\u001b[0m\u001b[0;34m(\u001b[0m\u001b[0mmike\u001b[0m\u001b[0;34m)\u001b[0m\u001b[0;34m\u001b[0m\u001b[0;34m\u001b[0m\u001b[0m\n\u001b[0m\u001b[1;32m      9\u001b[0m \u001b[0;34m\u001b[0m\u001b[0m\n\u001b[1;32m     10\u001b[0m \u001b[0md\u001b[0m \u001b[0;34m=\u001b[0m \u001b[0md\u001b[0m\u001b[0;34m[\u001b[0m\u001b[0mnp\u001b[0m\u001b[0;34m.\u001b[0m\u001b[0mnewaxis\u001b[0m\u001b[0;34m,\u001b[0m \u001b[0;34m...\u001b[0m\u001b[0;34m]\u001b[0m\u001b[0;34m\u001b[0m\u001b[0;34m\u001b[0m\u001b[0m\n",
      "\u001b[0;31mNameError\u001b[0m: name 'mike' is not defined"
     ]
    }
   ],
   "source": [
    "def report_song(prediction, pulse_index, sine_index):\n",
    "    report = 'pulse? ' + ('yes' if np.max(out[:, pulse_index]) > 0.7 else ' no')\n",
    "    report += ' sine? ' + ('yes' if np.max(out[:, sine_index]) > 0.7 else ' no')\n",
    "    return report\n",
    "\n",
    "# consume a couple of chunks until there is song\n",
    "for _ in range(9):\n",
    "    d = next(mike)\n",
    "\n",
    "d = d[np.newaxis, ...]\n",
    "out = model.predict(d, verbose=0)\n",
    "\n",
    "plt.subplot(211)\n",
    "plt.plot(d[0, ...])\n",
    "plt.ylabel('Audio [V]')\n",
    "plt.subplot(212)\n",
    "plt.plot(out[0])\n",
    "plt.ylabel('Confidence\\nscore')\n",
    "plt.xlabel('Samples')\n",
    "plt.legend(params['class_names'])\n"
   ]
  },
  {
   "source": [
    "## Run annotation\n",
    "Run the virtual microphone for 100 chunks to estimate annotation latencies."
   ],
   "cell_type": "markdown",
   "metadata": {}
  },
  {
   "cell_type": "code",
   "execution_count": 14,
   "metadata": {
    "tags": []
   },
   "outputs": [
    {
     "output_type": "stream",
     "name": "stdout",
     "text": [
      "pulse? yes sine? yes\n",
      "pulse? yes sine? yes\n",
      "pulse? yes sine? yes\n",
      "pulse? yes sine? yes\n",
      "pulse? yes sine? yes\n",
      "pulse? yes sine?  no\n",
      "pulse? yes sine? yes\n",
      "pulse? yes sine? yes\n",
      "pulse? yes sine? yes\n",
      "pulse? yes sine? yes\n",
      "pulse? yes sine? yes\n",
      "pulse? yes sine? yes\n",
      "pulse? yes sine? yes\n",
      "pulse? yes sine? yes\n",
      "pulse? yes sine? yes\n",
      "pulse? yes sine? yes\n",
      "pulse? yes sine? yes\n",
      "pulse? yes sine? yes\n",
      "pulse? yes sine? yes\n",
      "pulse? yes sine? yes\n",
      "pulse? yes sine? yes\n",
      "pulse? yes sine? yes\n",
      "pulse?  no sine?  no\n",
      "pulse? yes sine? yes\n",
      "pulse? yes sine? yes\n",
      "pulse? yes sine? yes\n",
      "pulse? yes sine? yes\n",
      "pulse? yes sine? yes\n",
      "pulse? yes sine? yes\n",
      "pulse? yes sine? yes\n",
      "pulse? yes sine? yes\n",
      "pulse? yes sine? yes\n",
      "pulse? yes sine? yes\n",
      "pulse? yes sine? yes\n",
      "pulse? yes sine? yes\n",
      "pulse?  no sine?  no\n",
      "pulse?  no sine?  no\n",
      "pulse? yes sine? yes\n",
      "pulse? yes sine? yes\n",
      "pulse? yes sine? yes\n",
      "pulse? yes sine? yes\n",
      "pulse?  no sine?  no\n",
      "pulse?  no sine? yes\n",
      "pulse?  no sine?  no\n",
      "pulse? yes sine? yes\n",
      "pulse? yes sine? yes\n",
      "pulse? yes sine? yes\n",
      "pulse?  no sine?  no\n",
      "pulse? yes sine? yes\n",
      "pulse? yes sine? yes\n",
      "pulse? yes sine? yes\n",
      "pulse? yes sine? yes\n",
      "pulse? yes sine? yes\n",
      "pulse?  no sine?  no\n",
      "pulse? yes sine? yes\n",
      "pulse? yes sine? yes\n",
      "pulse? yes sine? yes\n",
      "pulse? yes sine? yes\n",
      "pulse? yes sine? yes\n",
      "pulse? yes sine? yes\n",
      "pulse? yes sine? yes\n",
      "pulse? yes sine? yes\n",
      "pulse? yes sine? yes\n",
      "pulse? yes sine? yes\n",
      "pulse? yes sine? yes\n",
      "pulse?  no sine?  no\n",
      "pulse? yes sine? yes\n",
      "pulse? yes sine? yes\n",
      "pulse? yes sine? yes\n",
      "pulse? yes sine? yes\n",
      "pulse?  no sine?  no\n",
      "pulse? yes sine? yes\n",
      "pulse?  no sine?  no\n",
      "pulse?  no sine?  no\n",
      "pulse? yes sine? yes\n",
      "pulse?  no sine? yes\n",
      "pulse?  no sine?  no\n",
      "pulse?  no sine?  no\n",
      "pulse? yes sine? yes\n",
      "pulse? yes sine? yes\n",
      "pulse? yes sine? yes\n",
      "pulse? yes sine?  no\n",
      "pulse? yes sine? yes\n",
      "pulse? yes sine? yes\n",
      "pulse? yes sine? yes\n",
      "pulse? yes sine? yes\n",
      "pulse? yes sine? yes\n",
      "pulse? yes sine? yes\n",
      "pulse? yes sine? yes\n",
      "pulse? yes sine? yes\n",
      "pulse? yes sine? yes\n",
      "pulse? yes sine? yes\n",
      "pulse? yes sine? yes\n",
      "pulse? yes sine? yes\n",
      "pulse? yes sine? yes\n",
      "pulse? yes sine? yes\n",
      "pulse? yes sine? yes\n",
      "pulse?  no sine?  no\n",
      "pulse? yes sine? yes\n",
      "pulse?  no sine? yes\n"
     ]
    }
   ],
   "source": [
    "latencies = []\n",
    "runs = 0\n",
    "\n",
    "while runs < 100:\n",
    "    runs += 1\n",
    "    with dss.utils.Timer() as dt:\n",
    "        d = next(mike)  # get a new chunk\n",
    "        d = d[np.newaxis, ...]\n",
    "        out = model.predict(d, verbose=0)  # run inference on the chunk\n",
    "        # detect pulse and sine\n",
    "        result = report_song(out[0, ...], pulse_index, sine_index)\n",
    "        # print(result)\n",
    "    latencies.append(dt.elapsed * 1000)\n"
   ]
  },
  {
   "source": [
    "## Evaluate latencies\n",
    "Timing on GPUs can be more variable than on CPUs since a major contributor to latency is the transfer of data from/to the GPU.\n",
    "Hence, warmup!\n",
    "\n",
    "Subtract the recording latency to get "
   ],
   "cell_type": "markdown",
   "metadata": {}
  },
  {
   "cell_type": "code",
   "execution_count": 13,
   "metadata": {},
   "outputs": [
    {
     "output_type": "stream",
     "name": "stdout",
     "text": [
      "Annotation latencies\n  5, 50, 95 percentiles: [4.4279488 5.0589635 5.8320642] ms\n  min 3.90 ms, max 6.00 ms\n"
     ]
    },
    {
     "output_type": "display_data",
     "data": {
      "text/plain": "<Figure size 360x360 with 1 Axes>",
      "image/svg+xml": "<?xml version=\"1.0\" encoding=\"utf-8\" standalone=\"no\"?>\n<!DOCTYPE svg PUBLIC \"-//W3C//DTD SVG 1.1//EN\"\n  \"http://www.w3.org/Graphics/SVG/1.1/DTD/svg11.dtd\">\n<!-- Created with matplotlib (https://matplotlib.org/) -->\n<svg height=\"149.808274pt\" version=\"1.1\" viewBox=\"0 0 321.688359 149.808274\" width=\"321.688359pt\" xmlns=\"http://www.w3.org/2000/svg\" xmlns:xlink=\"http://www.w3.org/1999/xlink\">\n <metadata>\n  <rdf:RDF xmlns:cc=\"http://creativecommons.org/ns#\" xmlns:dc=\"http://purl.org/dc/elements/1.1/\" xmlns:rdf=\"http://www.w3.org/1999/02/22-rdf-syntax-ns#\">\n   <cc:Work>\n    <dc:type rdf:resource=\"http://purl.org/dc/dcmitype/StillImage\"/>\n    <dc:date>2020-10-28T15:59:28.216577</dc:date>\n    <dc:format>image/svg+xml</dc:format>\n    <dc:creator>\n     <cc:Agent>\n      <dc:title>Matplotlib v3.3.2, https://matplotlib.org/</dc:title>\n     </cc:Agent>\n    </dc:creator>\n   </cc:Work>\n  </rdf:RDF>\n </metadata>\n <defs>\n  <style type=\"text/css\">*{stroke-linecap:butt;stroke-linejoin:round;}</style>\n </defs>\n <g id=\"figure_1\">\n  <g id=\"patch_1\">\n   <path d=\"M 0 149.808274 \nL 321.688359 149.808274 \nL 321.688359 0 \nL 0 0 \nz\n\" style=\"fill:none;\"/>\n  </g>\n  <g id=\"axes_1\">\n   <g id=\"patch_2\">\n    <path d=\"M 31.124531 130.053118 \nL 310.124531 130.053118 \nL 310.124531 6.507663 \nL 31.124531 6.507663 \nz\n\" style=\"fill:none;\"/>\n   </g>\n   <g id=\"matplotlib.axis_1\">\n    <g id=\"xtick_1\">\n     <g id=\"line2d_1\">\n      <defs>\n       <path d=\"M 0 0 \nL 0 3.5 \n\" id=\"mee75bf31d9\" style=\"stroke:#000000;stroke-width:0.8;\"/>\n      </defs>\n      <g>\n       <use style=\"stroke:#000000;stroke-width:0.8;\" x=\"31.124531\" xlink:href=\"#mee75bf31d9\" y=\"130.053118\"/>\n      </g>\n     </g>\n     <g id=\"text_1\">\n      <text style=\"font-family:Helvetica;font-size:13px;font-stretch:normal;font-style:normal;font-weight:normal;text-anchor:middle;\" transform=\"rotate(-0, 31.124531, 146.378587)\" x=\"31.124531\" y=\"146.378587\">0</text>\n     </g>\n    </g>\n    <g id=\"xtick_2\">\n     <g id=\"line2d_2\">\n      <g>\n       <use style=\"stroke:#000000;stroke-width:0.8;\" x=\"86.924531\" xlink:href=\"#mee75bf31d9\" y=\"130.053118\"/>\n      </g>\n     </g>\n     <g id=\"text_2\">\n      <text style=\"font-family:Helvetica;font-size:13px;font-stretch:normal;font-style:normal;font-weight:normal;text-anchor:middle;\" transform=\"rotate(-0, 86.924531, 146.378587)\" x=\"86.924531\" y=\"146.378587\">20</text>\n     </g>\n    </g>\n    <g id=\"xtick_3\">\n     <g id=\"line2d_3\">\n      <g>\n       <use style=\"stroke:#000000;stroke-width:0.8;\" x=\"142.724531\" xlink:href=\"#mee75bf31d9\" y=\"130.053118\"/>\n      </g>\n     </g>\n     <g id=\"text_3\">\n      <text style=\"font-family:Helvetica;font-size:13px;font-stretch:normal;font-style:normal;font-weight:normal;text-anchor:middle;\" transform=\"rotate(-0, 142.724531, 146.378587)\" x=\"142.724531\" y=\"146.378587\">40</text>\n     </g>\n    </g>\n    <g id=\"xtick_4\">\n     <g id=\"line2d_4\">\n      <g>\n       <use style=\"stroke:#000000;stroke-width:0.8;\" x=\"198.524531\" xlink:href=\"#mee75bf31d9\" y=\"130.053118\"/>\n      </g>\n     </g>\n     <g id=\"text_4\">\n      <text style=\"font-family:Helvetica;font-size:13px;font-stretch:normal;font-style:normal;font-weight:normal;text-anchor:middle;\" transform=\"rotate(-0, 198.524531, 146.378587)\" x=\"198.524531\" y=\"146.378587\">60</text>\n     </g>\n    </g>\n    <g id=\"xtick_5\">\n     <g id=\"line2d_5\">\n      <g>\n       <use style=\"stroke:#000000;stroke-width:0.8;\" x=\"254.324531\" xlink:href=\"#mee75bf31d9\" y=\"130.053118\"/>\n      </g>\n     </g>\n     <g id=\"text_5\">\n      <text style=\"font-family:Helvetica;font-size:13px;font-stretch:normal;font-style:normal;font-weight:normal;text-anchor:middle;\" transform=\"rotate(-0, 254.324531, 146.378587)\" x=\"254.324531\" y=\"146.378587\">80</text>\n     </g>\n    </g>\n    <g id=\"xtick_6\">\n     <g id=\"line2d_6\">\n      <g>\n       <use style=\"stroke:#000000;stroke-width:0.8;\" x=\"310.124531\" xlink:href=\"#mee75bf31d9\" y=\"130.053118\"/>\n      </g>\n     </g>\n     <g id=\"text_6\">\n      <text style=\"font-family:Helvetica;font-size:13px;font-stretch:normal;font-style:normal;font-weight:normal;text-anchor:middle;\" transform=\"rotate(-0, 310.124531, 146.378587)\" x=\"310.124531\" y=\"146.378587\">100</text>\n     </g>\n    </g>\n   </g>\n   <g id=\"matplotlib.axis_2\">\n    <g id=\"ytick_1\">\n     <g id=\"line2d_7\">\n      <defs>\n       <path d=\"M 0 0 \nL -3.5 0 \n\" id=\"m58eb05a330\" style=\"stroke:#000000;stroke-width:0.8;\"/>\n      </defs>\n      <g>\n       <use style=\"stroke:#000000;stroke-width:0.8;\" x=\"31.124531\" xlink:href=\"#m58eb05a330\" y=\"130.053118\"/>\n      </g>\n     </g>\n     <g id=\"text_7\">\n      <text style=\"font-family:Helvetica;font-size:13px;font-stretch:normal;font-style:normal;font-weight:normal;text-anchor:end;\" transform=\"rotate(-0, 24.124531, 134.715852)\" x=\"24.124531\" y=\"134.715852\">0</text>\n     </g>\n    </g>\n    <g id=\"ytick_2\">\n     <g id=\"line2d_8\">\n      <g>\n       <use style=\"stroke:#000000;stroke-width:0.8;\" x=\"31.124531\" xlink:href=\"#m58eb05a330\" y=\"88.838098\"/>\n      </g>\n     </g>\n     <g id=\"text_8\">\n      <text style=\"font-family:Helvetica;font-size:13px;font-stretch:normal;font-style:normal;font-weight:normal;text-anchor:end;\" transform=\"rotate(-0, 24.124531, 93.500832)\" x=\"24.124531\" y=\"93.500832\">2</text>\n     </g>\n    </g>\n    <g id=\"ytick_3\">\n     <g id=\"line2d_9\">\n      <g>\n       <use style=\"stroke:#000000;stroke-width:0.8;\" x=\"31.124531\" xlink:href=\"#m58eb05a330\" y=\"47.623077\"/>\n      </g>\n     </g>\n     <g id=\"text_9\">\n      <text style=\"font-family:Helvetica;font-size:13px;font-stretch:normal;font-style:normal;font-weight:normal;text-anchor:end;\" transform=\"rotate(-0, 24.124531, 52.285812)\" x=\"24.124531\" y=\"52.285812\">4</text>\n     </g>\n    </g>\n    <g id=\"text_10\">\n     <text style=\"font-family:Helvetica;font-size:13px;font-stretch:normal;font-style:normal;font-weight:normal;text-anchor:middle;\" transform=\"rotate(-90, 10.108438, 68.280391)\" x=\"10.108438\" y=\"68.280391\">Annotation latency [ms]</text>\n    </g>\n   </g>\n   <g id=\"line2d_10\">\n    <path clip-path=\"url(#pb14c73c631)\" d=\"M 31.124531 8.449983 \nL 33.914531 24.153792 \nL 36.704531 20.892612 \nL 39.494531 32.383216 \nL 42.284531 27.763754 \nL 45.074531 23.712874 \nL 47.864531 28.622015 \nL 50.654531 32.247165 \nL 53.444531 38.358301 \nL 56.234531 19.253779 \nL 59.024531 23.705867 \nL 61.814531 20.757798 \nL 64.604531 10.122715 \nL 67.394531 24.630876 \nL 70.184531 29.184188 \nL 72.974531 38.699026 \nL 75.764531 27.132566 \nL 78.554531 38.210525 \nL 81.344531 29.471622 \nL 84.134531 12.870418 \nL 86.924531 17.580923 \nL 89.714531 26.951055 \nL 92.504531 25.546138 \nL 95.294531 36.471519 \nL 98.084531 22.501379 \nL 100.874531 20.459916 \nL 103.664531 27.468221 \nL 106.454531 29.827472 \nL 109.244531 15.503707 \nL 112.034531 29.898156 \nL 114.824531 13.979637 \nL 117.614531 29.924163 \nL 120.404531 36.211061 \nL 123.194531 29.905224 \nL 125.984531 27.904111 \nL 128.774531 29.410046 \nL 131.564531 23.837013 \nL 134.354531 24.78228 \nL 137.144531 8.572495 \nL 139.934531 10.674955 \nL 142.724531 30.413199 \nL 145.514531 35.878084 \nL 148.304531 33.407594 \nL 151.094531 27.653071 \nL 153.884531 34.176357 \nL 156.674531 22.933724 \nL 159.464531 21.749184 \nL 162.254531 18.204074 \nL 165.044531 10.553185 \nL 167.834531 40.800868 \nL 170.624531 31.011971 \nL 173.414531 25.986294 \nL 176.204531 24.510508 \nL 178.994531 25.614658 \nL 181.784531 15.264207 \nL 184.574531 15.689958 \nL 187.364531 36.383504 \nL 190.154531 31.291677 \nL 192.944531 20.015639 \nL 195.734531 24.862257 \nL 198.524531 33.899145 \nL 201.314531 32.408048 \nL 204.104531 14.81587 \nL 206.894531 17.82572 \nL 209.684531 16.837137 \nL 212.474531 48.332934 \nL 215.264531 28.261899 \nL 218.054531 17.225815 \nL 220.844531 45.248567 \nL 223.634531 36.352675 \nL 226.424531 11.471229 \nL 229.214531 12.026787 \nL 232.004531 49.648146 \nL 234.794531 31.388203 \nL 237.584531 32.970117 \nL 240.374531 29.206671 \nL 243.164531 27.510673 \nL 245.954531 30.350202 \nL 248.744531 10.189236 \nL 251.534531 21.209659 \nL 254.324531 21.900093 \nL 257.114531 36.985511 \nL 259.904531 28.555803 \nL 262.694531 35.855313 \nL 265.484531 32.024995 \nL 268.274531 32.826442 \nL 271.064531 8.301918 \nL 273.854531 9.916352 \nL 276.644531 13.661396 \nL 279.434531 20.851768 \nL 282.224531 16.955321 \nL 285.014531 31.238386 \nL 287.804531 42.21782 \nL 290.594531 35.21749 \nL 293.384531 23.004305 \nL 296.174531 18.692884 \nL 298.964531 8.965233 \nL 301.754531 6.507663 \nL 304.544531 10.49396 \nL 307.334531 19.337013 \n\" style=\"fill:none;stroke:#1f77b4;stroke-linecap:square;stroke-width:1.5;\"/>\n   </g>\n   <g id=\"patch_3\">\n    <path d=\"M 31.124531 130.053118 \nL 31.124531 6.507663 \n\" style=\"fill:none;stroke:#000000;stroke-linecap:square;stroke-linejoin:miter;stroke-width:0.8;\"/>\n   </g>\n   <g id=\"patch_4\">\n    <path d=\"M 31.124531 130.053118 \nL 310.124531 130.053118 \n\" style=\"fill:none;stroke:#000000;stroke-linecap:square;stroke-linejoin:miter;stroke-width:0.8;\"/>\n   </g>\n  </g>\n </g>\n <defs>\n  <clipPath id=\"pb14c73c631\">\n   <rect height=\"123.545455\" width=\"279\" x=\"31.124531\" y=\"6.507663\"/>\n  </clipPath>\n </defs>\n</svg>\n",
      "image/png": "[encoded data removed]"
     },
     "metadata": {
      "needs_background": "light"
     }
    }
   ],
   "source": [
    "annotation_latencies = np.array(latencies) - np.median(recording_latencies)\n",
    "print('Annotation latencies')\n",
    "print(f'  5, 50, 95 percentiles: {np.percentile(annotation_latencies, [5, 50, 95])} ms')\n",
    "print(f'  min {np.min(annotation_latencies):1.2f} ms, max {np.max(annotation_latencies):1.2f} ms')\n",
    "\n",
    "plt.figure(figsize=(5, 5))\n",
    "plt.plot(np.array(annotation_latencies))\n",
    "plt.ylabel('Annotation latency [ms]')\n",
    "plt.xlabel('Chunk#')\n",
    "plt.ylim(0, np.max(annotation_latencies))\n",
    "plt.show()"
   ]
  }
 ],
 "metadata": {
  "file_extension": ".py",
  "kernel_info": {
   "name": "python3"
  },
  "kernelspec": {
   "name": "python3",
   "display_name": "Python 3.8.5 64-bit ('miniconda3': conda)",
   "metadata": {
    "interpreter": {
     "hash": "97e399eb41f39eece155bd3046c19e1bcac896c178036c5a0e917146c5ea4385"
    }
   }
  },
  "language_info": {
   "codemirror_mode": {
    "name": "ipython",
    "version": 3
   },
   "file_extension": ".py",
   "mimetype": "text/x-python",
   "name": "python",
   "nbconvert_exporter": "python",
   "pygments_lexer": "ipython3",
   "version": "3.8.5-final"
  },
  "mimetype": "text/x-python",
  "name": "python",
  "npconvert_exporter": "python",
  "nteract": {
   "version": "0.15.0"
  },
  "pygments_lexer": "ipython3",
  "version": 3
 },
 "nbformat": 4,
 "nbformat_minor": 4
}